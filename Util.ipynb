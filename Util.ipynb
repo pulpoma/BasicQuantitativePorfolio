{
 "cells": [
  {
   "cell_type": "code",
   "execution_count": 1,
   "metadata": {},
   "outputs": [
    {
     "name": "stderr",
     "output_type": "stream",
     "text": [
      "C:\\Users\\lucio\\DataScience\\Anaconda3\\lib\\site-packages\\pandas_datareader\\compat\\__init__.py:7: FutureWarning: pandas.util.testing is deprecated. Use the functions in the public API at pandas.testing instead.\n",
      "  from pandas.util.testing import assert_frame_equal\n"
     ]
    }
   ],
   "source": [
    "import numpy as np\n",
    "\n",
    "import pandas as pd\n",
    "\n",
    "from pandas_datareader import data as wb\n",
    "\n",
    "import quandl"
   ]
  },
  {
   "cell_type": "markdown",
   "metadata": {},
   "source": [
    "# Hacer Dataframe a partir de listas"
   ]
  },
  {
   "cell_type": "code",
   "execution_count": 2,
   "metadata": {},
   "outputs": [],
   "source": [
    "tickers = ['XOM','T','KO','IBM','CVX','CSCO','JPM','MMM','BAC','PG','PFE','JNJ']"
   ]
  },
  {
   "cell_type": "code",
   "execution_count": 3,
   "metadata": {},
   "outputs": [],
   "source": [
    "for i in tickers:\n",
    "    nombre_df = str(i)\n",
    "    globals()[nombre_df] = pd.DataFrame(columns=[nombre_df])"
   ]
  },
  {
   "cell_type": "code",
   "execution_count": 4,
   "metadata": {},
   "outputs": [],
   "source": [
    "for i in tickers:\n",
    "    nombre_df = str(i)\n",
    "    globals()[nombre_df] = pd.DataFrame(columns=[nombre_df])\n",
    "    \n",
    "    #funcion que quiero automatizar\n",
    "    globals()[nombre_df] = wb.DataReader(nombre_df,data_source='yahoo', start='2020-5-5')"
   ]
  },
  {
   "cell_type": "code",
   "execution_count": 5,
   "metadata": {},
   "outputs": [
    {
     "data": {
      "text/plain": [
       "(                 High        Low       Open      Close      Volume  Adj Close\n",
       " Date                                                                         \n",
       " 2020-05-05  47.150002  44.660000  46.259998  44.830002  29276200.0  43.977310\n",
       " 2020-05-06  45.270000  43.900002  44.930000  43.990002  22659000.0  43.153286\n",
       " 2020-05-07  45.270000  43.970001  44.959999  44.240002  22160300.0  43.398533\n",
       " 2020-05-08  46.220001  44.980000  45.310001  46.180000  19998700.0  45.301632\n",
       " 2020-05-11  46.200001  45.509998  46.110001  45.740002  22226900.0  44.870003,\n",
       "                  High        Low       Open      Close    Volume  Adj Close\n",
       " Date                                                                       \n",
       " 2020-05-05  30.180000  29.719999  29.740000  29.740000  24626100  29.740000\n",
       " 2020-05-06  29.870001  28.790001  29.820000  28.790001  45094200  28.790001\n",
       " 2020-05-07  29.200001  28.830000  29.170000  28.889999  31814300  28.889999\n",
       " 2020-05-08  29.850000  29.209999  29.290001  29.790001  24047700  29.790001\n",
       " 2020-05-11  29.650000  29.150000  29.650000  29.379999  29206400  29.379999)"
      ]
     },
     "execution_count": 5,
     "metadata": {},
     "output_type": "execute_result"
    }
   ],
   "source": [
    "XOM.head(), T.head() "
   ]
  },
  {
   "cell_type": "markdown",
   "metadata": {},
   "source": [
    "# Hacer muchos Dataframe en un diccionario"
   ]
  },
  {
   "cell_type": "code",
   "execution_count": 6,
   "metadata": {},
   "outputs": [],
   "source": [
    "tickers = ['XOM','T','KO','IBM','CVX','CSCO','JPM','MMM','BAC','PG','PFE','JNJ']"
   ]
  },
  {
   "cell_type": "code",
   "execution_count": 7,
   "metadata": {},
   "outputs": [],
   "source": [
    "d = {}\n",
    "for name in tickers:\n",
    "    d[name] = pd.DataFrame()\n",
    "    d[name] = wb.DataReader(name,data_source='yahoo', start='2020-5-5')"
   ]
  },
  {
   "cell_type": "code",
   "execution_count": 8,
   "metadata": {},
   "outputs": [
    {
     "data": {
      "text/html": [
       "<div>\n",
       "<style scoped>\n",
       "    .dataframe tbody tr th:only-of-type {\n",
       "        vertical-align: middle;\n",
       "    }\n",
       "\n",
       "    .dataframe tbody tr th {\n",
       "        vertical-align: top;\n",
       "    }\n",
       "\n",
       "    .dataframe thead th {\n",
       "        text-align: right;\n",
       "    }\n",
       "</style>\n",
       "<table border=\"1\" class=\"dataframe\">\n",
       "  <thead>\n",
       "    <tr style=\"text-align: right;\">\n",
       "      <th></th>\n",
       "      <th>High</th>\n",
       "      <th>Low</th>\n",
       "      <th>Open</th>\n",
       "      <th>Close</th>\n",
       "      <th>Volume</th>\n",
       "      <th>Adj Close</th>\n",
       "    </tr>\n",
       "    <tr>\n",
       "      <th>Date</th>\n",
       "      <th></th>\n",
       "      <th></th>\n",
       "      <th></th>\n",
       "      <th></th>\n",
       "      <th></th>\n",
       "      <th></th>\n",
       "    </tr>\n",
       "  </thead>\n",
       "  <tbody>\n",
       "    <tr>\n",
       "      <th>2020-05-05</th>\n",
       "      <td>47.150002</td>\n",
       "      <td>44.660000</td>\n",
       "      <td>46.259998</td>\n",
       "      <td>44.830002</td>\n",
       "      <td>29276200.0</td>\n",
       "      <td>43.977310</td>\n",
       "    </tr>\n",
       "    <tr>\n",
       "      <th>2020-05-06</th>\n",
       "      <td>45.270000</td>\n",
       "      <td>43.900002</td>\n",
       "      <td>44.930000</td>\n",
       "      <td>43.990002</td>\n",
       "      <td>22659000.0</td>\n",
       "      <td>43.153286</td>\n",
       "    </tr>\n",
       "    <tr>\n",
       "      <th>2020-05-07</th>\n",
       "      <td>45.270000</td>\n",
       "      <td>43.970001</td>\n",
       "      <td>44.959999</td>\n",
       "      <td>44.240002</td>\n",
       "      <td>22160300.0</td>\n",
       "      <td>43.398533</td>\n",
       "    </tr>\n",
       "    <tr>\n",
       "      <th>2020-05-08</th>\n",
       "      <td>46.220001</td>\n",
       "      <td>44.980000</td>\n",
       "      <td>45.310001</td>\n",
       "      <td>46.180000</td>\n",
       "      <td>19998700.0</td>\n",
       "      <td>45.301632</td>\n",
       "    </tr>\n",
       "    <tr>\n",
       "      <th>2020-05-11</th>\n",
       "      <td>46.200001</td>\n",
       "      <td>45.509998</td>\n",
       "      <td>46.110001</td>\n",
       "      <td>45.740002</td>\n",
       "      <td>22226900.0</td>\n",
       "      <td>44.870003</td>\n",
       "    </tr>\n",
       "  </tbody>\n",
       "</table>\n",
       "</div>"
      ],
      "text/plain": [
       "                 High        Low       Open      Close      Volume  Adj Close\n",
       "Date                                                                         \n",
       "2020-05-05  47.150002  44.660000  46.259998  44.830002  29276200.0  43.977310\n",
       "2020-05-06  45.270000  43.900002  44.930000  43.990002  22659000.0  43.153286\n",
       "2020-05-07  45.270000  43.970001  44.959999  44.240002  22160300.0  43.398533\n",
       "2020-05-08  46.220001  44.980000  45.310001  46.180000  19998700.0  45.301632\n",
       "2020-05-11  46.200001  45.509998  46.110001  45.740002  22226900.0  44.870003"
      ]
     },
     "execution_count": 8,
     "metadata": {},
     "output_type": "execute_result"
    }
   ],
   "source": [
    "d['XOM'].head()"
   ]
  },
  {
   "cell_type": "markdown",
   "metadata": {},
   "source": [
    "# Hacer/Leer CSV"
   ]
  },
  {
   "cell_type": "code",
   "execution_count": 9,
   "metadata": {},
   "outputs": [],
   "source": [
    "import pandas as pd"
   ]
  },
  {
   "cell_type": "code",
   "execution_count": 1,
   "metadata": {},
   "outputs": [],
   "source": [
    "# mydata_01 = quandl.get(\"FRED/GDP\")"
   ]
  },
  {
   "cell_type": "code",
   "execution_count": null,
   "metadata": {},
   "outputs": [],
   "source": [
    "mydata_01.to_csv(r'C:\\Users\\lucio\\DataScience\\Courses\\4.-Python-for-Finance\\0.Proyect\\example_01.csv')"
   ]
  },
  {
   "cell_type": "code",
   "execution_count": null,
   "metadata": {},
   "outputs": [],
   "source": [
    "mydata_02 = pd.read_csv(r'C:\\Users\\lucio\\DataScience\\Courses\\4.-Python-for-Finance\\0.Proyect\\example_01.csv')\n",
    "\n",
    "mydata_02.head(1)"
   ]
  },
  {
   "cell_type": "markdown",
   "metadata": {},
   "source": [
    "# Hacer/Leer Excel"
   ]
  },
  {
   "cell_type": "code",
   "execution_count": null,
   "metadata": {},
   "outputs": [],
   "source": [
    "mydata_01.to_excel(r'C:\\Users\\lucio\\DataScience\\Courses\\4.-Python-for-Finance\\0.Proyect\\example_01.xlsx')"
   ]
  },
  {
   "cell_type": "code",
   "execution_count": null,
   "metadata": {},
   "outputs": [],
   "source": [
    "mydata_02 = pd.read_excel(r'C:\\Users\\lucio\\DataScience\\Courses\\4.-Python-for-Finance\\0.Proyect\\example_01.xlsx')\n",
    "mydata_02.head(1)"
   ]
  },
  {
   "cell_type": "markdown",
   "metadata": {},
   "source": [
    "# Index"
   ]
  },
  {
   "cell_type": "markdown",
   "metadata": {},
   "source": [
    "Date to index"
   ]
  },
  {
   "cell_type": "code",
   "execution_count": null,
   "metadata": {},
   "outputs": [],
   "source": [
    "mydata_02 = pd.read_csv(r'C:\\Users\\lucio\\DataScience\\Courses\\4.-Python-for-Finance\\0.Proyect\\example_01.csv')\n",
    "\n",
    "mydata_02.head(1)"
   ]
  },
  {
   "cell_type": "code",
   "execution_count": null,
   "metadata": {},
   "outputs": [],
   "source": [
    "mydata_02 = pd.read_csv(r'C:\\Users\\lucio\\DataScience\\Courses\\4.-Python-for-Finance\\0.Proyect\\example_01.csv', index_col='Date')\n",
    "\n",
    "mydata_02.head(1)"
   ]
  },
  {
   "cell_type": "markdown",
   "metadata": {},
   "source": [
    "Columna to index"
   ]
  },
  {
   "cell_type": "code",
   "execution_count": null,
   "metadata": {},
   "outputs": [],
   "source": [
    "mydata_02 = pd.read_csv(r'C:\\Users\\lucio\\DataScience\\Courses\\4.-Python-for-Finance\\0.Proyect\\example_01.csv')\n",
    "\n",
    "mydata_02.head(1)"
   ]
  },
  {
   "cell_type": "code",
   "execution_count": null,
   "metadata": {},
   "outputs": [],
   "source": [
    "mydata_02 = pd.read_csv(r'C:\\Users\\lucio\\DataScience\\Courses\\4.-Python-for-Finance\\0.Proyect\\example_01.csv')\n",
    "print(mydata_02.head(1))\n",
    "\n",
    "mydata_02.set_index('Date', inplace=True)\n",
    "mydata_02.head(1)"
   ]
  },
  {
   "cell_type": "markdown",
   "metadata": {},
   "source": [
    "# Retornos"
   ]
  },
  {
   "cell_type": "markdown",
   "metadata": {},
   "source": [
    "Simple return"
   ]
  },
  {
   "cell_type": "code",
   "execution_count": 20,
   "metadata": {},
   "outputs": [],
   "source": [
    "PG= wb.DataReader('PG', data_source='yahoo', start = '2020-1-1')"
   ]
  },
  {
   "cell_type": "code",
   "execution_count": 21,
   "metadata": {},
   "outputs": [],
   "source": [
    "PG['simple_return'] = PG['Adj Close'].pct_change(1)"
   ]
  },
  {
   "cell_type": "code",
   "execution_count": 22,
   "metadata": {},
   "outputs": [],
   "source": [
    "PG['simple_return'] = (PG['Adj Close']/PG['Adj Close'].shift(1))-1"
   ]
  },
  {
   "cell_type": "markdown",
   "metadata": {},
   "source": [
    "Log return"
   ]
  },
  {
   "cell_type": "code",
   "execution_count": 23,
   "metadata": {
    "scrolled": true
   },
   "outputs": [],
   "source": [
    "PG['log_return'] = np.log(PG['Adj Close']/PG['Adj Close'].shift(1))"
   ]
  },
  {
   "cell_type": "code",
   "execution_count": 24,
   "metadata": {},
   "outputs": [],
   "source": [
    "PG['log_return'] = np.log(PG['Adj Close']) - np.log(PG['Adj Close'].shift(1))"
   ]
  },
  {
   "cell_type": "code",
   "execution_count": 25,
   "metadata": {},
   "outputs": [],
   "source": [
    "#Log returns are simply the natural log of 1 plus the arithmetic return\n",
    "PG['log_return'] = np.log(1 + PG['Adj Close'].pct_change(1))"
   ]
  },
  {
   "cell_type": "markdown",
   "metadata": {},
   "source": [
    "# Covarianza y Corr"
   ]
  },
  {
   "cell_type": "code",
   "execution_count": 48,
   "metadata": {},
   "outputs": [
    {
     "data": {
      "text/html": [
       "<div>\n",
       "<style scoped>\n",
       "    .dataframe tbody tr th:only-of-type {\n",
       "        vertical-align: middle;\n",
       "    }\n",
       "\n",
       "    .dataframe tbody tr th {\n",
       "        vertical-align: top;\n",
       "    }\n",
       "\n",
       "    .dataframe thead th {\n",
       "        text-align: right;\n",
       "    }\n",
       "</style>\n",
       "<table border=\"1\" class=\"dataframe\">\n",
       "  <thead>\n",
       "    <tr style=\"text-align: right;\">\n",
       "      <th></th>\n",
       "      <th>XOM</th>\n",
       "      <th>T</th>\n",
       "      <th>PG</th>\n",
       "      <th>PFE</th>\n",
       "    </tr>\n",
       "    <tr>\n",
       "      <th>Date</th>\n",
       "      <th></th>\n",
       "      <th></th>\n",
       "      <th></th>\n",
       "      <th></th>\n",
       "    </tr>\n",
       "  </thead>\n",
       "  <tbody>\n",
       "    <tr>\n",
       "      <th>2020-01-02</th>\n",
       "      <td>68.567070</td>\n",
       "      <td>37.683826</td>\n",
       "      <td>121.868492</td>\n",
       "      <td>38.361916</td>\n",
       "    </tr>\n",
       "    <tr>\n",
       "      <th>2020-01-03</th>\n",
       "      <td>68.015823</td>\n",
       "      <td>37.877773</td>\n",
       "      <td>121.048851</td>\n",
       "      <td>38.156090</td>\n",
       "    </tr>\n",
       "    <tr>\n",
       "      <th>2020-01-06</th>\n",
       "      <td>68.538055</td>\n",
       "      <td>37.916561</td>\n",
       "      <td>121.216728</td>\n",
       "      <td>38.107082</td>\n",
       "    </tr>\n",
       "    <tr>\n",
       "      <th>2020-01-07</th>\n",
       "      <td>67.977135</td>\n",
       "      <td>38.062023</td>\n",
       "      <td>120.466217</td>\n",
       "      <td>37.979671</td>\n",
       "    </tr>\n",
       "    <tr>\n",
       "      <th>2020-01-08</th>\n",
       "      <td>66.952019</td>\n",
       "      <td>38.178391</td>\n",
       "      <td>120.979729</td>\n",
       "      <td>38.283508</td>\n",
       "    </tr>\n",
       "  </tbody>\n",
       "</table>\n",
       "</div>"
      ],
      "text/plain": [
       "                  XOM          T          PG        PFE\n",
       "Date                                                   \n",
       "2020-01-02  68.567070  37.683826  121.868492  38.361916\n",
       "2020-01-03  68.015823  37.877773  121.048851  38.156090\n",
       "2020-01-06  68.538055  37.916561  121.216728  38.107082\n",
       "2020-01-07  67.977135  38.062023  120.466217  37.979671\n",
       "2020-01-08  66.952019  38.178391  120.979729  38.283508"
      ]
     },
     "execution_count": 48,
     "metadata": {},
     "output_type": "execute_result"
    }
   ],
   "source": [
    "tickers = ['XOM','T','PG','PFE']\n",
    "\n",
    "sec_data = pd.DataFrame()\n",
    "\n",
    "for t in tickers:\n",
    "    sec_data[t] = wb.DataReader(t, data_source='yahoo', start='2020-1-1')['Adj Close']\n",
    "\n",
    "sec_data.head()"
   ]
  },
  {
   "cell_type": "code",
   "execution_count": 49,
   "metadata": {},
   "outputs": [
    {
     "data": {
      "text/html": [
       "<div>\n",
       "<style scoped>\n",
       "    .dataframe tbody tr th:only-of-type {\n",
       "        vertical-align: middle;\n",
       "    }\n",
       "\n",
       "    .dataframe tbody tr th {\n",
       "        vertical-align: top;\n",
       "    }\n",
       "\n",
       "    .dataframe thead th {\n",
       "        text-align: right;\n",
       "    }\n",
       "</style>\n",
       "<table border=\"1\" class=\"dataframe\">\n",
       "  <thead>\n",
       "    <tr style=\"text-align: right;\">\n",
       "      <th></th>\n",
       "      <th>XOM</th>\n",
       "      <th>T</th>\n",
       "      <th>PG</th>\n",
       "      <th>PFE</th>\n",
       "    </tr>\n",
       "    <tr>\n",
       "      <th>Date</th>\n",
       "      <th></th>\n",
       "      <th></th>\n",
       "      <th></th>\n",
       "      <th></th>\n",
       "    </tr>\n",
       "  </thead>\n",
       "  <tbody>\n",
       "    <tr>\n",
       "      <th>2020-01-02</th>\n",
       "      <td>0.000000</td>\n",
       "      <td>0.000000</td>\n",
       "      <td>0.000000</td>\n",
       "      <td>0.000000</td>\n",
       "    </tr>\n",
       "    <tr>\n",
       "      <th>2020-01-03</th>\n",
       "      <td>-0.008072</td>\n",
       "      <td>0.005133</td>\n",
       "      <td>-0.006748</td>\n",
       "      <td>-0.005380</td>\n",
       "    </tr>\n",
       "    <tr>\n",
       "      <th>2020-01-06</th>\n",
       "      <td>-0.000423</td>\n",
       "      <td>0.006157</td>\n",
       "      <td>-0.005362</td>\n",
       "      <td>-0.006665</td>\n",
       "    </tr>\n",
       "    <tr>\n",
       "      <th>2020-01-07</th>\n",
       "      <td>-0.008641</td>\n",
       "      <td>0.009986</td>\n",
       "      <td>-0.011573</td>\n",
       "      <td>-0.010014</td>\n",
       "    </tr>\n",
       "    <tr>\n",
       "      <th>2020-01-08</th>\n",
       "      <td>-0.023836</td>\n",
       "      <td>0.013039</td>\n",
       "      <td>-0.007320</td>\n",
       "      <td>-0.002046</td>\n",
       "    </tr>\n",
       "  </tbody>\n",
       "</table>\n",
       "</div>"
      ],
      "text/plain": [
       "                 XOM         T        PG       PFE\n",
       "Date                                              \n",
       "2020-01-02  0.000000  0.000000  0.000000  0.000000\n",
       "2020-01-03 -0.008072  0.005133 -0.006748 -0.005380\n",
       "2020-01-06 -0.000423  0.006157 -0.005362 -0.006665\n",
       "2020-01-07 -0.008641  0.009986 -0.011573 -0.010014\n",
       "2020-01-08 -0.023836  0.013039 -0.007320 -0.002046"
      ]
     },
     "execution_count": 49,
     "metadata": {},
     "output_type": "execute_result"
    }
   ],
   "source": [
    "log_returns = np.log(sec_data/sec_data.iloc[0]) \n",
    "log_returns.head()"
   ]
  },
  {
   "cell_type": "code",
   "execution_count": 50,
   "metadata": {},
   "outputs": [
    {
     "data": {
      "text/html": [
       "<div>\n",
       "<style scoped>\n",
       "    .dataframe tbody tr th:only-of-type {\n",
       "        vertical-align: middle;\n",
       "    }\n",
       "\n",
       "    .dataframe tbody tr th {\n",
       "        vertical-align: top;\n",
       "    }\n",
       "\n",
       "    .dataframe thead th {\n",
       "        text-align: right;\n",
       "    }\n",
       "</style>\n",
       "<table border=\"1\" class=\"dataframe\">\n",
       "  <thead>\n",
       "    <tr style=\"text-align: right;\">\n",
       "      <th></th>\n",
       "      <th>XOM</th>\n",
       "      <th>T</th>\n",
       "      <th>PG</th>\n",
       "      <th>PFE</th>\n",
       "    </tr>\n",
       "  </thead>\n",
       "  <tbody>\n",
       "    <tr>\n",
       "      <th>XOM</th>\n",
       "      <td>0.049843</td>\n",
       "      <td>0.023102</td>\n",
       "      <td>0.009977</td>\n",
       "      <td>0.013425</td>\n",
       "    </tr>\n",
       "    <tr>\n",
       "      <th>T</th>\n",
       "      <td>0.023102</td>\n",
       "      <td>0.014207</td>\n",
       "      <td>0.005156</td>\n",
       "      <td>0.004331</td>\n",
       "    </tr>\n",
       "    <tr>\n",
       "      <th>PG</th>\n",
       "      <td>0.009977</td>\n",
       "      <td>0.005156</td>\n",
       "      <td>0.003168</td>\n",
       "      <td>0.003457</td>\n",
       "    </tr>\n",
       "    <tr>\n",
       "      <th>PFE</th>\n",
       "      <td>0.013425</td>\n",
       "      <td>0.004331</td>\n",
       "      <td>0.003457</td>\n",
       "      <td>0.006769</td>\n",
       "    </tr>\n",
       "  </tbody>\n",
       "</table>\n",
       "</div>"
      ],
      "text/plain": [
       "          XOM         T        PG       PFE\n",
       "XOM  0.049843  0.023102  0.009977  0.013425\n",
       "T    0.023102  0.014207  0.005156  0.004331\n",
       "PG   0.009977  0.005156  0.003168  0.003457\n",
       "PFE  0.013425  0.004331  0.003457  0.006769"
      ]
     },
     "execution_count": 50,
     "metadata": {},
     "output_type": "execute_result"
    }
   ],
   "source": [
    "cov_matrix = log_returns.cov()\n",
    "cov_matrix"
   ]
  },
  {
   "cell_type": "code",
   "execution_count": 51,
   "metadata": {},
   "outputs": [
    {
     "data": {
      "text/html": [
       "<div>\n",
       "<style scoped>\n",
       "    .dataframe tbody tr th:only-of-type {\n",
       "        vertical-align: middle;\n",
       "    }\n",
       "\n",
       "    .dataframe tbody tr th {\n",
       "        vertical-align: top;\n",
       "    }\n",
       "\n",
       "    .dataframe thead th {\n",
       "        text-align: right;\n",
       "    }\n",
       "</style>\n",
       "<table border=\"1\" class=\"dataframe\">\n",
       "  <thead>\n",
       "    <tr style=\"text-align: right;\">\n",
       "      <th></th>\n",
       "      <th>XOM</th>\n",
       "      <th>T</th>\n",
       "      <th>PG</th>\n",
       "      <th>PFE</th>\n",
       "    </tr>\n",
       "  </thead>\n",
       "  <tbody>\n",
       "    <tr>\n",
       "      <th>XOM</th>\n",
       "      <td>12.460653</td>\n",
       "      <td>5.775479</td>\n",
       "      <td>2.494159</td>\n",
       "      <td>3.356231</td>\n",
       "    </tr>\n",
       "    <tr>\n",
       "      <th>T</th>\n",
       "      <td>5.775479</td>\n",
       "      <td>3.551628</td>\n",
       "      <td>1.289078</td>\n",
       "      <td>1.082719</td>\n",
       "    </tr>\n",
       "    <tr>\n",
       "      <th>PG</th>\n",
       "      <td>2.494159</td>\n",
       "      <td>1.289078</td>\n",
       "      <td>0.792123</td>\n",
       "      <td>0.864215</td>\n",
       "    </tr>\n",
       "    <tr>\n",
       "      <th>PFE</th>\n",
       "      <td>3.356231</td>\n",
       "      <td>1.082719</td>\n",
       "      <td>0.864215</td>\n",
       "      <td>1.692170</td>\n",
       "    </tr>\n",
       "  </tbody>\n",
       "</table>\n",
       "</div>"
      ],
      "text/plain": [
       "           XOM         T        PG       PFE\n",
       "XOM  12.460653  5.775479  2.494159  3.356231\n",
       "T     5.775479  3.551628  1.289078  1.082719\n",
       "PG    2.494159  1.289078  0.792123  0.864215\n",
       "PFE   3.356231  1.082719  0.864215  1.692170"
      ]
     },
     "execution_count": 51,
     "metadata": {},
     "output_type": "execute_result"
    }
   ],
   "source": [
    "cov_matrix_a = log_returns.cov() *250\n",
    "cov_matrix_a"
   ]
  },
  {
   "cell_type": "code",
   "execution_count": 52,
   "metadata": {},
   "outputs": [
    {
     "data": {
      "text/html": [
       "<div>\n",
       "<style scoped>\n",
       "    .dataframe tbody tr th:only-of-type {\n",
       "        vertical-align: middle;\n",
       "    }\n",
       "\n",
       "    .dataframe tbody tr th {\n",
       "        vertical-align: top;\n",
       "    }\n",
       "\n",
       "    .dataframe thead th {\n",
       "        text-align: right;\n",
       "    }\n",
       "</style>\n",
       "<table border=\"1\" class=\"dataframe\">\n",
       "  <thead>\n",
       "    <tr style=\"text-align: right;\">\n",
       "      <th></th>\n",
       "      <th>XOM</th>\n",
       "      <th>T</th>\n",
       "      <th>PG</th>\n",
       "      <th>PFE</th>\n",
       "    </tr>\n",
       "  </thead>\n",
       "  <tbody>\n",
       "    <tr>\n",
       "      <th>XOM</th>\n",
       "      <td>1.000000</td>\n",
       "      <td>0.868168</td>\n",
       "      <td>0.793884</td>\n",
       "      <td>0.730902</td>\n",
       "    </tr>\n",
       "    <tr>\n",
       "      <th>T</th>\n",
       "      <td>0.868168</td>\n",
       "      <td>1.000000</td>\n",
       "      <td>0.768544</td>\n",
       "      <td>0.441652</td>\n",
       "    </tr>\n",
       "    <tr>\n",
       "      <th>PG</th>\n",
       "      <td>0.793884</td>\n",
       "      <td>0.768544</td>\n",
       "      <td>1.000000</td>\n",
       "      <td>0.746454</td>\n",
       "    </tr>\n",
       "    <tr>\n",
       "      <th>PFE</th>\n",
       "      <td>0.730902</td>\n",
       "      <td>0.441652</td>\n",
       "      <td>0.746454</td>\n",
       "      <td>1.000000</td>\n",
       "    </tr>\n",
       "  </tbody>\n",
       "</table>\n",
       "</div>"
      ],
      "text/plain": [
       "          XOM         T        PG       PFE\n",
       "XOM  1.000000  0.868168  0.793884  0.730902\n",
       "T    0.868168  1.000000  0.768544  0.441652\n",
       "PG   0.793884  0.768544  1.000000  0.746454\n",
       "PFE  0.730902  0.441652  0.746454  1.000000"
      ]
     },
     "execution_count": 52,
     "metadata": {},
     "output_type": "execute_result"
    }
   ],
   "source": [
    "corr_matrix = log_returns.corr()\n",
    "corr_matrix"
   ]
  },
  {
   "cell_type": "code",
   "execution_count": null,
   "metadata": {},
   "outputs": [],
   "source": []
  },
  {
   "cell_type": "code",
   "execution_count": null,
   "metadata": {},
   "outputs": [],
   "source": []
  }
 ],
 "metadata": {
  "hide_input": false,
  "kernelspec": {
   "display_name": "Python 3",
   "language": "python",
   "name": "python3"
  },
  "language_info": {
   "codemirror_mode": {
    "name": "ipython",
    "version": 3
   },
   "file_extension": ".py",
   "mimetype": "text/x-python",
   "name": "python",
   "nbconvert_exporter": "python",
   "pygments_lexer": "ipython3",
   "version": "3.7.6"
  }
 },
 "nbformat": 4,
 "nbformat_minor": 4
}
